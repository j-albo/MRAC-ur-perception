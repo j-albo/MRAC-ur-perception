{
 "cells": [
  {
   "cell_type": "code",
   "execution_count": 1,
   "metadata": {},
   "outputs": [],
   "source": [
    "from typing import List, Tuple\n",
    "from math import pi\n",
    "from datetime import datetime\n",
    "import rospy\n",
    "from copy import deepcopy\n",
    "\n",
    "from moveit_commander import PlanningSceneInterface\n",
    "\n",
    "from geometry_msgs.msg import (\n",
    "    Pose,\n",
    "    PoseStamped,\n",
    "    Point,\n",
    "    Quaternion,\n",
    "    Vector3,\n",
    ")\n",
    "from commander.msg import Goal\n",
    "from commander.srv import (\n",
    "    ExecuteTrajectory,\n",
    "    PlanGoal,\n",
    "    PlanGoalRequest,\n",
    "    PlanSequence,\n",
    "    PlanSequenceRequest,\n",
    "    PickPlace,\n",
    "    GetTcpPose,\n",
    "    VisualizePoses,\n",
    "    SetEe,\n",
    ")\n",
    "from industrial_reconstruction_msgs.srv import (\n",
    "    StartReconstruction,\n",
    "    StartReconstructionRequest,\n",
    "    StopReconstruction,\n",
    "    StopReconstructionRequest,\n",
    ")\n",
    "\n",
    "from commander.utils import poses_from_yaml, load_scene\n",
    "from commander.transform_utils import orient_poses, create_rotation_matrix, apply_transformation\n",
    "\n",
    "CAPTURE = True\n",
    "\n",
    "rospy.init_node(\"reconstruction\")\n",
    "\n",
    "load_scene()\n",
    "\n",
    "plan_goal_srv = rospy.ServiceProxy(\"commander/plan_goal\", PlanGoal)\n",
    "plan_sequence_srv = rospy.ServiceProxy(\"commander/plan_sequence\", PlanSequence)\n",
    "execute_trajectory_srv = rospy.ServiceProxy(\"commander/execute_trajectory\", ExecuteTrajectory)\n",
    "get_tcp_pose_srv = rospy.ServiceProxy(\"commander/get_tcp_pose\", GetTcpPose)\n",
    "set_ee_srv = rospy.ServiceProxy(\"commander/set_ee\", SetEe)\n",
    "pick_place_srv = rospy.ServiceProxy(\"commander/pick_place\", PickPlace)\n",
    "\n",
    "if CAPTURE:\n",
    "    start_recon = rospy.ServiceProxy(\"/start_reconstruction\", StartReconstruction)\n",
    "    stop_recon = rospy.ServiceProxy(\"/stop_reconstruction\", StopReconstruction)\n",
    "\n",
    "\n",
    "def display_poses(poses: List[Pose], frame_id: str = \"base_link\") -> None:\n",
    "    rospy.wait_for_service(\"/visualize_poses\", timeout=10)\n",
    "    visualize_poses = rospy.ServiceProxy(\"/visualize_poses\", VisualizePoses)\n",
    "    visualize_poses(frame_id, poses)\n",
    "\n",
    "\n",
    "def gen_recon_msg(path: str) -> Tuple[StartReconstructionRequest, StopReconstructionRequest]:\n",
    "    start_srv_req = StartReconstructionRequest()\n",
    "    start_srv_req.tracking_frame = \"rgb_camera_tcp\"\n",
    "    start_srv_req.relative_frame = \"base_link\"\n",
    "    start_srv_req.translation_distance = 0.0\n",
    "    start_srv_req.rotational_distance = 0.0\n",
    "    start_srv_req.live = True\n",
    "    start_srv_req.tsdf_params.voxel_length = 0.001\n",
    "    start_srv_req.tsdf_params.sdf_trunc = 0.002\n",
    "    start_srv_req.tsdf_params.min_box_values = Vector3(x=0.0, y=0.0, z=0.0)\n",
    "    start_srv_req.tsdf_params.max_box_values = Vector3(x=0.0, y=0.0, z=0.0)\n",
    "    start_srv_req.rgbd_params.depth_scale = 1\n",
    "    start_srv_req.rgbd_params.depth_trunc = 1.0\n",
    "    start_srv_req.rgbd_params.convert_rgb_to_intensity = False\n",
    "\n",
    "    stop_srv_req = StopReconstructionRequest()\n",
    "    path = path + datetime.now().strftime(\"%m_%d_%H_%M\") + \".ply\"\n",
    "    stop_srv_req.mesh_filepath = path\n",
    "\n",
    "    return start_srv_req, stop_srv_req"
   ]
  },
  {
   "cell_type": "markdown",
   "metadata": {},
   "source": []
  },
  {
   "cell_type": "code",
   "execution_count": 2,
   "metadata": {},
   "outputs": [],
   "source": [
    "cam_home = [0, -pi / 2, pi / 2, 0, pi / 2, pi]\n",
    "target0 = Pose(\n",
    "    position=Point(0.7, -0.3, 0.35),\n",
    "    orientation=Quaternion(0.7071067811865476, -0.7071067811865475, 0.0, 0.0),\n",
    ")\n",
    "target1 = Pose(\n",
    "    position=Point(0.7, 0.3, 0.35),\n",
    "    orientation=Quaternion(0.7071067811865476, -0.7071067811865475, 0.0, 0.0),\n",
    ")\n",
    "display_poses([target0, target1])\n",
    "success = set_ee_srv(\"rgb_camera_tcp\")"
   ]
  },
  {
   "cell_type": "code",
   "execution_count": 3,
   "metadata": {},
   "outputs": [],
   "source": [
    "resp = plan_goal_srv(Goal(joint_values=cam_home, vel_scale=0.2, acc_scale=0.1, planner=\"ptp\"))"
   ]
  },
  {
   "cell_type": "code",
   "execution_count": 4,
   "metadata": {},
   "outputs": [
    {
     "data": {
      "text/plain": [
       "success: True"
      ]
     },
     "execution_count": 4,
     "metadata": {},
     "output_type": "execute_result"
    }
   ],
   "source": [
    "execute_trajectory_srv()"
   ]
  },
  {
   "cell_type": "code",
   "execution_count": 10,
   "metadata": {},
   "outputs": [],
   "source": [
    "yaml_file_path = \"/dev_ws/src/commander/data/stupid_toolpath.yaml\"\n",
    "poses = poses_from_yaml(yaml_file_path)\n",
    "\n",
    "origin = Pose(position=Point(1.3, 0.0, 0), orientation=Quaternion(0.0, 0.0, 0.0, 1.0))\n",
    "poses = orient_poses(origin, poses)\n",
    "tf = create_rotation_matrix([0, 0, pi])\n",
    "poses = [apply_transformation(pose, tf) for pose in poses]\n",
    "display_poses(poses)"
   ]
  },
  {
   "cell_type": "code",
   "execution_count": 13,
   "metadata": {},
   "outputs": [],
   "source": [
    "goals = []\n",
    "blends = []\n",
    "for pose in poses:\n",
    "    goal = Goal(pose=pose, vel_scale=0.1, acc_scale=0.1, planner=\"ptp\")\n",
    "    goals.append(goal)\n",
    "    blends.append(0.05)\n",
    "\n",
    "blends[0] = 0.0\n",
    "blends[-1] = 0.0\n"
   ]
  },
  {
   "cell_type": "code",
   "execution_count": null,
   "metadata": {},
   "outputs": [],
   "source": [
    "if CAPTURE:\n",
    "    start_recon_req, stop_recon_req = gen_recon_msg(\"/home/huanyu/capture\")\n",
    "\n",
    "resp = plan_goal_srv(Goal(pose=cam_home, vel_scale=0.1, acc_scale=0.1, planner=\"ptp\"))\n",
    "if resp.success and not resp.configuration_change:\n",
    "    print(\"Start recon\")\n",
    "    if CAPTURE:\n",
    "        start_recon(start_recon_req)\n",
    "    execute_trajectory_srv()\n",
    "else:\n",
    "    rospy.loginfo(\"Failed to plan\")\n",
    "    exit()\n",
    "\n",
    "resp = plan_sequence_srv(goals, blends)\n",
    "if resp.success:\n",
    "    execute_trajectory_srv()\n",
    "else:\n",
    "    rospy.loginfo(\"Failed to plan\")\n",
    "    exit()\n",
    "if CAPTURE:\n",
    "    stop_recon(stop_recon_req)"
   ]
  }
 ],
 "metadata": {
  "kernelspec": {
   "display_name": "Python 3",
   "language": "python",
   "name": "python3"
  },
  "language_info": {
   "codemirror_mode": {
    "name": "ipython",
    "version": 3
   },
   "file_extension": ".py",
   "mimetype": "text/x-python",
   "name": "python",
   "nbconvert_exporter": "python",
   "pygments_lexer": "ipython3",
   "version": "3.8.10"
  },
  "orig_nbformat": 4
 },
 "nbformat": 4,
 "nbformat_minor": 2
}
